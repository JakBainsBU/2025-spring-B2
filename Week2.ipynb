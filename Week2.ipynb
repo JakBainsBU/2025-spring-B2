{
 "cells": [
  {
   "cell_type": "markdown",
   "id": "5190b54c-d49c-4d6f-80cc-22555336a9cd",
   "metadata": {},
   "source": [
    "# Week 2 - Preprocessing, part 2\n",
    "\n",
    "# 1. Lesson: None"
   ]
  },
  {
   "cell_type": "markdown",
   "id": "47c4e5ff-b05f-4ef2-96f1-49dcb5beb158",
   "metadata": {},
   "source": [
    "# 2. Weekly graph question"
   ]
  },
  {
   "cell_type": "markdown",
   "id": "aad37e29-6e84-41fa-886d-abc1312213ab",
   "metadata": {},
   "source": [
    "The Storytelling With Data book mentions planning on a \"Who, What, and How\" for your data story.  Write down a possible Who, What, and How for your data, using the ideas in the book."
   ]
  },
  {
   "cell_type": "code",
   "execution_count": 18,
   "id": "c862fc32-1297-4587-b9da-4b0642ab3e6e",
   "metadata": {},
   "outputs": [
    {
     "data": {
      "text/plain": [
       "'\\nWho\\n    Audience: The intended audience for this data story includes Netflix content managers, product managers, and data analysts who are looking to understand trends in Netflix show releases, their scores, and the number of seasons. This could also be relevant for marketing and business analysts who want insights to help in decision-making about future content strategy.\\n    Context: These professionals aim to optimize the content selection process, understand what makes a successful show (e.g., score and number of seasons), and ensure that the content library is well-balanced in terms of genre, production, and release year.\\nWhat\\n    Objective: The goal is to examine the patterns in Netflix shows across several key attributes: release year, score, number of seasons, genre, and production company. Specifically, we aim to answer questions such as:\\n    What is the average score of Netflix shows across years?\\n    Do certain genres or production companies tend to have higher ratings?\\n    How do the number of seasons relate to show scores?\\n    Key Insights: Key insights may include the identification of top genres with higher ratings, trends in show releases over time, and whether shows with more seasons tend to score better or worse.\\nHow\\n    Visualizations:\\n        A line chart to visualize the trend of show ratings over the years.\\n        Bar charts comparing scores across different genres or production companies.\\n        A scatter plot to explore the relationship between the number of seasons and the show score.\\n    Narrative: The story would start by introducing the dataset and its focus on Netflix show performance, followed by a breakdown of trends (e.g., how scores have evolved or which genres are most highly rated). We would highlight key findings (e.g., if shows with more seasons tend to have higher scores or if certain genres dominate in terms of production quality).\\n    Design: Keep the visualizations simple with clear labels and consistent color schemes. Use charts that are easy to interpret at a glance to maintain clarity and ensure the audience can quickly absorb the key takeaways.\\n'"
      ]
     },
     "execution_count": 18,
     "metadata": {},
     "output_type": "execute_result"
    }
   ],
   "source": [
    "'''\n",
    "Who\n",
    "    Audience: The intended audience for this data story includes Netflix content managers, product managers, and data analysts who are looking to understand trends in Netflix show releases, their scores, and the number of seasons. This could also be relevant for marketing and business analysts who want insights to help in decision-making about future content strategy.\n",
    "    Context: These professionals aim to optimize the content selection process, understand what makes a successful show (e.g., score and number of seasons), and ensure that the content library is well-balanced in terms of genre, production, and release year.\n",
    "What\n",
    "    Objective: The goal is to examine the patterns in Netflix shows across several key attributes: release year, score, number of seasons, genre, and production company. Specifically, we aim to answer questions such as:\n",
    "    What is the average score of Netflix shows across years?\n",
    "    Do certain genres or production companies tend to have higher ratings?\n",
    "    How do the number of seasons relate to show scores?\n",
    "    Key Insights: Key insights may include the identification of top genres with higher ratings, trends in show releases over time, and whether shows with more seasons tend to score better or worse.\n",
    "How\n",
    "    Visualizations:\n",
    "        A line chart to visualize the trend of show ratings over the years.\n",
    "        Bar charts comparing scores across different genres or production companies.\n",
    "        A scatter plot to explore the relationship between the number of seasons and the show score.\n",
    "    Narrative: The story would start by introducing the dataset and its focus on Netflix show performance, followed by a breakdown of trends (e.g., how scores have evolved or which genres are most highly rated). We would highlight key findings (e.g., if shows with more seasons tend to have higher scores or if certain genres dominate in terms of production quality).\n",
    "    Design: Keep the visualizations simple with clear labels and consistent color schemes. Use charts that are easy to interpret at a glance to maintain clarity and ensure the audience can quickly absorb the key takeaways.\n",
    "'''\n"
   ]
  },
  {
   "cell_type": "markdown",
   "id": "898eb327-aefd-4ac0-b95a-92b616a2181b",
   "metadata": {},
   "source": [
    "# 3. Homework - work with your own data"
   ]
  },
  {
   "cell_type": "code",
   "execution_count": 1,
   "id": "fe925521-979f-4983-8d85-8db8d1316e99",
   "metadata": {},
   "outputs": [],
   "source": [
    "import pandas as pd\n",
    "import numpy as np\n",
    "from datetime import datetime, timedelta"
   ]
  },
  {
   "cell_type": "markdown",
   "id": "14836788-b235-4cd4-b94d-5f749c6141a8",
   "metadata": {},
   "source": [
    "This week, you will do the same types of exercises as last week, but you should use your chosen datasets that someone in your class found last semester. (They likely will not be the particular datasets that you found yourself.)\n",
    "\n",
    "### Here are some types of analysis you can do  Use Google, documentation, and ChatGPT to help you:\n",
    "\n",
    "- Summarize the datasets using info() and describe()\n",
    "\n",
    "- Are there any duplicate rows?\n",
    "\n",
    "- Are there any duplicate values in a given column (when this would be inappropriate?)\n",
    "\n",
    "- What are the mean, median, and mode of each column?\n",
    "\n",
    "- Are there any missing or null values?\n",
    "\n",
    "    - Do you want to fill in the missing value with a mean value?  A value of your choice?  Remove that row?\n",
    "\n",
    "- Identify any other inconsistent data (e.g. someone seems to be taking an action before they are born.)\n",
    "\n",
    "- Encode any categorical variables (e.g. with one-hot encoding.)\n",
    "\n",
    "### Conclusions:\n",
    "\n",
    "- Are the data usable?  If not, find some new data!\n",
    "\n",
    "- Do you need to modify or correct the data in some way?\n",
    "\n",
    "- Is there any class imbalance?  (Categories that have many more items than other categories)."
   ]
  },
  {
   "cell_type": "markdown",
   "id": "abab9e6d-18cc-4863-b980-3e52f581763a",
   "metadata": {},
   "source": [
    "# 4. Storytelling With Data graph"
   ]
  },
  {
   "cell_type": "markdown",
   "id": "1911148d-9df6-4b33-a875-8c96408ec834",
   "metadata": {},
   "source": [
    "Just like last week: choose any graph in the Introduction of Storytelling With Data. Use matplotlib to reproduce it in a rough way. I don't expect you to spend an enormous amount of time on this; I understand that you likely will not have time to re-create every feature of the graph. However, if you're excited about learning to use matplotlib, this is a good way to do that. You don't have to duplicate the exact values on the graph; just the same rough shape will be enough.  If you don't feel comfortable using matplotlib yet, do the best you can and write down what you tried or what Google searches you did to find the answers."
   ]
  },
  {
   "cell_type": "code",
   "execution_count": 14,
   "id": "8b2888f9-3700-45ab-9829-6a5372106f9f",
   "metadata": {},
   "outputs": [
    {
     "name": "stdout",
     "output_type": "stream",
     "text": [
      "<class 'pandas.core.frame.DataFrame'>\n",
      "RangeIndex: 31 entries, 0 to 30\n",
      "Data columns (total 6 columns):\n",
      " #   Column             Non-Null Count  Dtype  \n",
      "---  ------             --------------  -----  \n",
      " 0   TITLE              31 non-null     object \n",
      " 1   RELEASE_YEAR       31 non-null     int64  \n",
      " 2   SCORE              31 non-null     float64\n",
      " 3   NUMBER_OF_SEASONS  31 non-null     int64  \n",
      " 4   MAIN_GENRE         31 non-null     object \n",
      " 5   MAIN_PRODUCTION    31 non-null     object \n",
      "dtypes: float64(1), int64(2), object(3)\n",
      "memory usage: 1.6+ KB\n",
      "\n",
      "Duplicate rows: 0\n",
      "\n",
      "Duplicate cols: {'TITLE': np.int64(0), 'RELEASE_YEAR': np.int64(0), 'SCORE': np.int64(16), 'NUMBER_OF_SEASONS': np.int64(18), 'MAIN_GENRE': np.int64(25), 'MAIN_PRODUCTION': np.int64(26)}\n",
      "\n",
      "Missing Values:\n",
      " TITLE                0\n",
      "RELEASE_YEAR         0\n",
      "SCORE                0\n",
      "NUMBER_OF_SEASONS    0\n",
      "MAIN_GENRE           0\n",
      "MAIN_PRODUCTION      0\n",
      "dtype: int64\n",
      "\n",
      "mean median and mode\n"
     ]
    },
    {
     "data": {
      "text/plain": [
       "(RELEASE_YEAR         2005.645161\n",
       " SCORE                   8.606452\n",
       " NUMBER_OF_SEASONS       5.322581\n",
       " dtype: float64,\n",
       " RELEASE_YEAR         2007.0\n",
       " SCORE                   8.8\n",
       " NUMBER_OF_SEASONS       5.0\n",
       " dtype: float64,\n",
       " RELEASE_YEAR         1969.0\n",
       " SCORE                   8.8\n",
       " NUMBER_OF_SEASONS       1.0\n",
       " Name: 0, dtype: float64)"
      ]
     },
     "execution_count": 14,
     "metadata": {},
     "output_type": "execute_result"
    }
   ],
   "source": [
    "data = pd.read_csv('Best Show by Year Netflix.csv')\n",
    "\n",
    "info = data.info()\n",
    "describe = data.describe()\n",
    "\n",
    "# Check for duplicate rows\n",
    "duplicates = data.duplicated().sum()\n",
    "print(\"\\nDuplicate rows:\", duplicates)\n",
    "\n",
    "# Check for duplicate values in each column\n",
    "duplicate_values = {col: data[col].duplicated().sum() for col in data.columns}\n",
    "print(\"\\nDuplicate cols:\",duplicate_values)\n",
    "\n",
    "# Check for missing values\n",
    "missing_values = data.isnull().sum()\n",
    "print(\"\\nMissing Values:\\n\",missing_values)\n",
    "\n",
    "print(\"\\nmean median and mode\")\n",
    "# Calculate the mean, median, and mode of each column\n",
    "mean_values = data.mean(numeric_only=True)\n",
    "median_values = data.median(numeric_only=True)\n",
    "mode_values = data.mode(numeric_only=True).iloc[0]\n",
    "\n",
    "# Display all the relevant information\n",
    "mean_values, median_values, mode_values"
   ]
  },
  {
   "cell_type": "code",
   "execution_count": 19,
   "id": "824cd690",
   "metadata": {},
   "outputs": [
    {
     "data": {
      "text/plain": [
       "'\\nConclusion\\n    There are no missing values or duplicates in the rows.\\n    The SCORE, NUMBER_OF_SEASONS, MAIN_GENRE, and MAIN_PRODUCTION columns have several duplicate values, which might need attention if those values should be unique.\\n    The data looks usable overall without need for missing value handling.\\n'"
      ]
     },
     "execution_count": 19,
     "metadata": {},
     "output_type": "execute_result"
    }
   ],
   "source": [
    "'''\n",
    "Conclusion\n",
    "    There are no missing values or duplicates in the rows.\n",
    "    The SCORE, NUMBER_OF_SEASONS, MAIN_GENRE, and MAIN_PRODUCTION columns have several duplicate values, which might need attention if those values should be unique.\n",
    "    The data looks usable overall without need for missing value handling.\n",
    "'''"
   ]
  }
 ],
 "metadata": {
  "kernelspec": {
   "display_name": "Python 3",
   "language": "python",
   "name": "python3"
  },
  "language_info": {
   "codemirror_mode": {
    "name": "ipython",
    "version": 3
   },
   "file_extension": ".py",
   "mimetype": "text/x-python",
   "name": "python",
   "nbconvert_exporter": "python",
   "pygments_lexer": "ipython3",
   "version": "3.12.1"
  }
 },
 "nbformat": 4,
 "nbformat_minor": 5
}
